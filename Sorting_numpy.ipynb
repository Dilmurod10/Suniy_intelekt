{
  "nbformat": 4,
  "nbformat_minor": 0,
  "metadata": {
    "colab": {
      "provenance": [],
      "authorship_tag": "ABX9TyMH+uTbQRf5gx1043ntaYEB",
      "include_colab_link": true
    },
    "kernelspec": {
      "name": "python3",
      "display_name": "Python 3"
    },
    "language_info": {
      "name": "python"
    }
  },
  "cells": [
    {
      "cell_type": "markdown",
      "metadata": {
        "id": "view-in-github",
        "colab_type": "text"
      },
      "source": [
        "<a href=\"https://colab.research.google.com/github/Dilmurod10/Suniy_intelekt/blob/main/Sorting_numpy.ipynb\" target=\"_parent\"><img src=\"https://colab.research.google.com/assets/colab-badge.svg\" alt=\"Open In Colab\"/></a>"
      ]
    },
    {
      "cell_type": "code",
      "execution_count": 1,
      "metadata": {
        "id": "Qa5zfuE_t3XD"
      },
      "outputs": [],
      "source": [
        "import numpy as np"
      ]
    },
    {
      "cell_type": "code",
      "source": [
        "arr=np.random.rand(4)"
      ],
      "metadata": {
        "id": "cB6emAj3t_m_"
      },
      "execution_count": 2,
      "outputs": []
    },
    {
      "cell_type": "code",
      "source": [
        "arr.sort()\n",
        "arr"
      ],
      "metadata": {
        "colab": {
          "base_uri": "https://localhost:8080/"
        },
        "id": "86bDCS0_vD17",
        "outputId": "3540bdf6-bbb1-40c2-c409-31bb20746764"
      },
      "execution_count": 3,
      "outputs": [
        {
          "output_type": "execute_result",
          "data": {
            "text/plain": [
              "array([0.42863943, 0.46226066, 0.47319896, 0.91380572])"
            ]
          },
          "metadata": {},
          "execution_count": 3
        }
      ]
    },
    {
      "cell_type": "code",
      "source": [
        "arr2=-np.sort(-arr)\n",
        "arr2"
      ],
      "metadata": {
        "colab": {
          "base_uri": "https://localhost:8080/"
        },
        "id": "85xNbBDZvG4K",
        "outputId": "24654e5f-e4ee-43c1-caa1-273613622e07"
      },
      "execution_count": 4,
      "outputs": [
        {
          "output_type": "execute_result",
          "data": {
            "text/plain": [
              "array([0.91380572, 0.47319896, 0.46226066, 0.42863943])"
            ]
          },
          "metadata": {},
          "execution_count": 4
        }
      ]
    },
    {
      "cell_type": "code",
      "source": [
        "arr3=np.random.randn(4,3)\n",
        "arr3"
      ],
      "metadata": {
        "colab": {
          "base_uri": "https://localhost:8080/"
        },
        "id": "JUDzGZNOvhyG",
        "outputId": "716b46c2-c092-4c8f-94ee-210a327a6bd6"
      },
      "execution_count": 6,
      "outputs": [
        {
          "output_type": "execute_result",
          "data": {
            "text/plain": [
              "array([[ 0.20834512,  0.54872874, -2.53175802],\n",
              "       [-0.53555166,  0.71017707, -1.2934396 ],\n",
              "       [-0.63426004, -0.99634084,  0.51964367],\n",
              "       [ 0.59210526, -2.44784154, -0.52996114]])"
            ]
          },
          "metadata": {},
          "execution_count": 6
        }
      ]
    },
    {
      "cell_type": "code",
      "source": [
        "row_arr=np.sort(arr3,axis=0)\n",
        "row_arr"
      ],
      "metadata": {
        "colab": {
          "base_uri": "https://localhost:8080/"
        },
        "id": "dszTC5flwVyb",
        "outputId": "71b7b23b-c938-4bf6-c4a9-05e8de103655"
      },
      "execution_count": 7,
      "outputs": [
        {
          "output_type": "execute_result",
          "data": {
            "text/plain": [
              "array([[-0.63426004, -2.44784154, -2.53175802],\n",
              "       [-0.53555166, -0.99634084, -1.2934396 ],\n",
              "       [ 0.20834512,  0.54872874, -0.52996114],\n",
              "       [ 0.59210526,  0.71017707,  0.51964367]])"
            ]
          },
          "metadata": {},
          "execution_count": 7
        }
      ]
    },
    {
      "cell_type": "code",
      "source": [
        "low_arr=np.sort(arr3,axis=1)\n",
        "low_arr"
      ],
      "metadata": {
        "colab": {
          "base_uri": "https://localhost:8080/"
        },
        "id": "0GBB9v-4whJ7",
        "outputId": "58d79f54-4b41-42ce-d90c-79e736e6cc40"
      },
      "execution_count": 8,
      "outputs": [
        {
          "output_type": "execute_result",
          "data": {
            "text/plain": [
              "array([[-2.53175802,  0.20834512,  0.54872874],\n",
              "       [-1.2934396 , -0.53555166,  0.71017707],\n",
              "       [-0.99634084, -0.63426004,  0.51964367],\n",
              "       [-2.44784154, -0.52996114,  0.59210526]])"
            ]
          },
          "metadata": {},
          "execution_count": 8
        }
      ]
    },
    {
      "cell_type": "code",
      "source": [],
      "metadata": {
        "id": "h1i8G3f7w1mQ"
      },
      "execution_count": null,
      "outputs": []
    }
  ]
}