{
  "nbformat": 4,
  "nbformat_minor": 0,
  "metadata": {
    "colab": {
      "provenance": [],
      "authorship_tag": "ABX9TyN5VfwIorxmbhBNjBzzJonc",
      "include_colab_link": true
    },
    "kernelspec": {
      "name": "python3",
      "display_name": "Python 3"
    },
    "language_info": {
      "name": "python"
    }
  },
  "cells": [
    {
      "cell_type": "markdown",
      "metadata": {
        "id": "view-in-github",
        "colab_type": "text"
      },
      "source": [
        "<a href=\"https://colab.research.google.com/github/Dilmurod10/Suniy_intelekt/blob/main/Mantiqiy_shart_operatorlari.ipynb\" target=\"_parent\"><img src=\"https://colab.research.google.com/assets/colab-badge.svg\" alt=\"Open In Colab\"/></a>"
      ]
    },
    {
      "cell_type": "code",
      "execution_count": 1,
      "metadata": {
        "id": "UqadqveLyD2u"
      },
      "outputs": [],
      "source": [
        "import numpy as np"
      ]
    },
    {
      "cell_type": "markdown",
      "source": [
        "where funksiyasi"
      ],
      "metadata": {
        "id": "zxKsQrEwzJxN"
      }
    },
    {
      "cell_type": "code",
      "source": [
        "xarr=np.array([1.1,1.2,1.3,1.4,1.5])\n",
        "yarr=np.array([2.1,2.2,2.3,2.4,2.5])"
      ],
      "metadata": {
        "id": "3x_fHqMLyXfH"
      },
      "execution_count": 7,
      "outputs": []
    },
    {
      "cell_type": "code",
      "source": [
        "cond=np.array([True,False,True,True,False])"
      ],
      "metadata": {
        "id": "HGLb71Z1zerS"
      },
      "execution_count": 5,
      "outputs": []
    },
    {
      "cell_type": "code",
      "source": [
        "result=np.where(cond,xarr,yarr)\n",
        "result"
      ],
      "metadata": {
        "colab": {
          "base_uri": "https://localhost:8080/"
        },
        "id": "DtRnnVTtzwed",
        "outputId": "ab0fc405-e2bb-419d-940b-9a3c32456828"
      },
      "execution_count": 9,
      "outputs": [
        {
          "output_type": "execute_result",
          "data": {
            "text/plain": [
              "array([1.1, 2.2, 1.3, 1.4, 2.5])"
            ]
          },
          "metadata": {},
          "execution_count": 9
        }
      ]
    },
    {
      "cell_type": "code",
      "source": [
        "arr=np.random.randn(5,2)\n",
        "arr"
      ],
      "metadata": {
        "colab": {
          "base_uri": "https://localhost:8080/"
        },
        "id": "hapjQJ-Tz3le",
        "outputId": "390100e9-7fb4-4d8c-f211-2de35f350e4d"
      },
      "execution_count": 12,
      "outputs": [
        {
          "output_type": "execute_result",
          "data": {
            "text/plain": [
              "array([[ 0.44294938, -1.95544401],\n",
              "       [-0.89353781, -1.72370292],\n",
              "       [ 2.06003041,  1.69631782],\n",
              "       [ 1.52184727, -1.35633653],\n",
              "       [-0.87044953,  0.48920202]])"
            ]
          },
          "metadata": {},
          "execution_count": 12
        }
      ]
    },
    {
      "cell_type": "code",
      "source": [
        "results=np.where(arr>=0,1,-1)\n",
        "results"
      ],
      "metadata": {
        "colab": {
          "base_uri": "https://localhost:8080/"
        },
        "id": "7nN7y-S-1Rr3",
        "outputId": "da0f0185-188a-4071-8004-7cee32a698de"
      },
      "execution_count": 15,
      "outputs": [
        {
          "output_type": "execute_result",
          "data": {
            "text/plain": [
              "array([[ 1, -1],\n",
              "       [-1, -1],\n",
              "       [ 1,  1],\n",
              "       [ 1, -1],\n",
              "       [-1,  1]])"
            ]
          },
          "metadata": {},
          "execution_count": 15
        }
      ]
    },
    {
      "cell_type": "code",
      "source": [],
      "metadata": {
        "id": "52rjwdP91inQ"
      },
      "execution_count": null,
      "outputs": []
    }
  ]
}