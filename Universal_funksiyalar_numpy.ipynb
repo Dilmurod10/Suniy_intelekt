{
  "nbformat": 4,
  "nbformat_minor": 0,
  "metadata": {
    "colab": {
      "provenance": [],
      "toc_visible": true,
      "authorship_tag": "ABX9TyOijYRV4rnmLYRCz+fq3wkT",
      "include_colab_link": true
    },
    "kernelspec": {
      "name": "python3",
      "display_name": "Python 3"
    },
    "language_info": {
      "name": "python"
    }
  },
  "cells": [
    {
      "cell_type": "markdown",
      "metadata": {
        "id": "view-in-github",
        "colab_type": "text"
      },
      "source": [
        "<a href=\"https://colab.research.google.com/github/Dilmurod10/Suniy_intelekt/blob/main/Universal_funksiyalar_numpy.ipynb\" target=\"_parent\"><img src=\"https://colab.research.google.com/assets/colab-badge.svg\" alt=\"Open In Colab\"/></a>"
      ]
    },
    {
      "cell_type": "code",
      "execution_count": 1,
      "metadata": {
        "id": "WgY7RtmCiIpq"
      },
      "outputs": [],
      "source": [
        "import numpy as np"
      ]
    },
    {
      "cell_type": "markdown",
      "source": [
        "Universal funksiyalar\n",
        "\n",
        "sqrt, square, exp,log, modf, sign, isnan funksiyalarini ko'rib chiqamiz\n"
      ],
      "metadata": {
        "id": "x6lv9b3Ainw7"
      }
    },
    {
      "cell_type": "markdown",
      "source": [
        " Unary funksiyalar(bitta argument qabul qiluvchi funksiyalar)"
      ],
      "metadata": {
        "id": "S8Y4qbsajgV0"
      }
    },
    {
      "cell_type": "code",
      "source": [
        "arr=np.arange(10)\n",
        "arr"
      ],
      "metadata": {
        "colab": {
          "base_uri": "https://localhost:8080/"
        },
        "id": "xS_8wQwliZcY",
        "outputId": "838fbb59-da22-443c-ee82-92ce37b181ff"
      },
      "execution_count": 3,
      "outputs": [
        {
          "output_type": "execute_result",
          "data": {
            "text/plain": [
              "array([0, 1, 2, 3, 4, 5, 6, 7, 8, 9])"
            ]
          },
          "metadata": {},
          "execution_count": 3
        }
      ]
    },
    {
      "cell_type": "code",
      "source": [
        "np.sqrt(arr)"
      ],
      "metadata": {
        "colab": {
          "base_uri": "https://localhost:8080/"
        },
        "id": "7KIDOqTXkx9v",
        "outputId": "6a2e9ef3-d25b-4257-9d7f-9a8bc467b307"
      },
      "execution_count": 4,
      "outputs": [
        {
          "output_type": "execute_result",
          "data": {
            "text/plain": [
              "array([0.        , 1.        , 1.41421356, 1.73205081, 2.        ,\n",
              "       2.23606798, 2.44948974, 2.64575131, 2.82842712, 3.        ])"
            ]
          },
          "metadata": {},
          "execution_count": 4
        }
      ]
    },
    {
      "cell_type": "code",
      "source": [
        "np.square(arr)"
      ],
      "metadata": {
        "colab": {
          "base_uri": "https://localhost:8080/"
        },
        "id": "tAoWSiIIk5d5",
        "outputId": "2150e220-80ee-4734-b687-f0df34aa60c5"
      },
      "execution_count": 5,
      "outputs": [
        {
          "output_type": "execute_result",
          "data": {
            "text/plain": [
              "array([ 0,  1,  4,  9, 16, 25, 36, 49, 64, 81])"
            ]
          },
          "metadata": {},
          "execution_count": 5
        }
      ]
    },
    {
      "cell_type": "markdown",
      "source": [
        "*modf* bu funksiya massiv elementlarining butun va qoldiq qismlarini ajratib beradi"
      ],
      "metadata": {
        "id": "WT8k4wS1lDaE"
      }
    },
    {
      "cell_type": "code",
      "source": [
        "arr1=np.random.randn(6)\n",
        "arr1"
      ],
      "metadata": {
        "colab": {
          "base_uri": "https://localhost:8080/"
        },
        "id": "1fOyMOBYlBt6",
        "outputId": "312f60bb-8ce0-42b9-ee4c-1438566bea54"
      },
      "execution_count": 11,
      "outputs": [
        {
          "output_type": "execute_result",
          "data": {
            "text/plain": [
              "array([-1.66886567, -0.77084849,  0.9826036 ,  0.22892561, -0.65807864,\n",
              "        0.84798641])"
            ]
          },
          "metadata": {},
          "execution_count": 11
        }
      ]
    },
    {
      "cell_type": "code",
      "source": [
        "qoldiq,butun=np.modf(arr1)"
      ],
      "metadata": {
        "id": "PiRbQ3J5mHuJ"
      },
      "execution_count": 12,
      "outputs": []
    },
    {
      "cell_type": "code",
      "source": [
        "print(qoldiq)\n",
        "print(butun)"
      ],
      "metadata": {
        "colab": {
          "base_uri": "https://localhost:8080/"
        },
        "id": "TzTCoffvm7-u",
        "outputId": "8305ae0a-fa4b-4f00-a7e8-6fd535da6f1f"
      },
      "execution_count": 13,
      "outputs": [
        {
          "output_type": "stream",
          "name": "stdout",
          "text": [
            "[-0.66886567 -0.77084849  0.9826036   0.22892561 -0.65807864  0.84798641]\n",
            "[-1. -0.  0.  0. -0.  0.]\n"
          ]
        }
      ]
    },
    {
      "cell_type": "markdown",
      "source": [
        "**sign** funksiyasi massiv elementlari mafiy bo'lsa -1 aks holda 1 qiymat qaytaradi"
      ],
      "metadata": {
        "id": "V0WeewZxnX3h"
      }
    },
    {
      "cell_type": "code",
      "source": [
        "np.sign(arr1)"
      ],
      "metadata": {
        "colab": {
          "base_uri": "https://localhost:8080/"
        },
        "id": "bOFitthanAjB",
        "outputId": "e6c38ae3-16bd-4553-e914-1da3e6250569"
      },
      "execution_count": 24,
      "outputs": [
        {
          "output_type": "execute_result",
          "data": {
            "text/plain": [
              "array([nan, -1.,  1.,  1., -1.,  1.])"
            ]
          },
          "metadata": {},
          "execution_count": 24
        }
      ]
    },
    {
      "cell_type": "markdown",
      "source": [
        "*isnan* funksiyasi massivda nan bor yo'qligini tekshiradi"
      ],
      "metadata": {
        "id": "Lk-wjgwkoOR5"
      }
    },
    {
      "cell_type": "code",
      "source": [
        "np.isnan(arr1)"
      ],
      "metadata": {
        "colab": {
          "base_uri": "https://localhost:8080/"
        },
        "id": "RSbo0h9iodtz",
        "outputId": "5c3dd333-ba1f-45d0-e2d2-049534039f09"
      },
      "execution_count": 25,
      "outputs": [
        {
          "output_type": "execute_result",
          "data": {
            "text/plain": [
              "array([ True, False, False, False, False, False])"
            ]
          },
          "metadata": {},
          "execution_count": 25
        }
      ]
    },
    {
      "cell_type": "code",
      "source": [
        "np.abs(arr1)"
      ],
      "metadata": {
        "colab": {
          "base_uri": "https://localhost:8080/"
        },
        "id": "0aFpWHl6olr8",
        "outputId": "2e7f52bb-e5d7-4e2e-bfc9-a615afced817"
      },
      "execution_count": 23,
      "outputs": [
        {
          "output_type": "execute_result",
          "data": {
            "text/plain": [
              "array([       nan, 0.77084849, 0.9826036 , 0.22892561, 0.65807864,\n",
              "       0.84798641])"
            ]
          },
          "metadata": {},
          "execution_count": 23
        }
      ]
    },
    {
      "cell_type": "code",
      "source": [
        "arr1[0]=0.1"
      ],
      "metadata": {
        "id": "Wo7m8FpBpyTp"
      },
      "execution_count": 26,
      "outputs": []
    },
    {
      "cell_type": "code",
      "source": [
        "np.ceil(arr1)"
      ],
      "metadata": {
        "colab": {
          "base_uri": "https://localhost:8080/"
        },
        "id": "6bPfsccSpVAo",
        "outputId": "3007a8ab-95f0-417b-e6db-997f040727e9"
      },
      "execution_count": 29,
      "outputs": [
        {
          "output_type": "execute_result",
          "data": {
            "text/plain": [
              "array([ 1., -0.,  1.,  1., -0.,  1.])"
            ]
          },
          "metadata": {},
          "execution_count": 29
        }
      ]
    },
    {
      "cell_type": "code",
      "source": [
        "np.rint(arr1)"
      ],
      "metadata": {
        "colab": {
          "base_uri": "https://localhost:8080/"
        },
        "id": "zzbDC0AvpfVH",
        "outputId": "04dc0fcb-0888-4282-f982-b36cbf5a36de"
      },
      "execution_count": 30,
      "outputs": [
        {
          "output_type": "execute_result",
          "data": {
            "text/plain": [
              "array([ 0., -1.,  1.,  0., -1.,  1.])"
            ]
          },
          "metadata": {},
          "execution_count": 30
        }
      ]
    },
    {
      "cell_type": "code",
      "source": [
        "arr1"
      ],
      "metadata": {
        "colab": {
          "base_uri": "https://localhost:8080/"
        },
        "id": "q3QBaRIvqNTq",
        "outputId": "bfcf4568-84a5-4aa0-f649-aa9d3d115697"
      },
      "execution_count": 31,
      "outputs": [
        {
          "output_type": "execute_result",
          "data": {
            "text/plain": [
              "array([ 0.1       , -0.77084849,  0.9826036 ,  0.22892561, -0.65807864,\n",
              "        0.84798641])"
            ]
          },
          "metadata": {},
          "execution_count": 31
        }
      ]
    },
    {
      "cell_type": "markdown",
      "source": [
        "Binary (2 ta argument qabul qiluvchi )funksiyalar\n",
        "add, multiply, maximum funksiyalarini ko'rib chiqamiz"
      ],
      "metadata": {
        "id": "pVohypIiq7zM"
      }
    },
    {
      "cell_type": "markdown",
      "source": [
        "add 2ta massivni bir biriga qo'shish"
      ],
      "metadata": {
        "id": "o4VSnTGdrLx3"
      }
    },
    {
      "cell_type": "code",
      "source": [
        "arr2=np.random.randn(7)\n",
        "arr3=np.random.randn(7)"
      ],
      "metadata": {
        "id": "v6hkVSOKqqfV"
      },
      "execution_count": 32,
      "outputs": []
    },
    {
      "cell_type": "code",
      "source": [
        "np.add(arr2,arr3)"
      ],
      "metadata": {
        "colab": {
          "base_uri": "https://localhost:8080/"
        },
        "id": "Z-In0rN0r15Z",
        "outputId": "5badc408-cb25-402f-91d4-2e4bdd1f8dbb"
      },
      "execution_count": 33,
      "outputs": [
        {
          "output_type": "execute_result",
          "data": {
            "text/plain": [
              "array([ 0.03266395,  2.40646237,  0.60016705,  2.89617724,  0.75835551,\n",
              "       -1.04563094,  0.2994287 ])"
            ]
          },
          "metadata": {},
          "execution_count": 33
        }
      ]
    },
    {
      "cell_type": "code",
      "source": [
        "arr2+arr3"
      ],
      "metadata": {
        "colab": {
          "base_uri": "https://localhost:8080/"
        },
        "id": "d48nqs_tr4_a",
        "outputId": "4782db1f-0701-4aa1-c4ec-4315358f2a60"
      },
      "execution_count": 34,
      "outputs": [
        {
          "output_type": "execute_result",
          "data": {
            "text/plain": [
              "array([ 0.03266395,  2.40646237,  0.60016705,  2.89617724,  0.75835551,\n",
              "       -1.04563094,  0.2994287 ])"
            ]
          },
          "metadata": {},
          "execution_count": 34
        }
      ]
    },
    {
      "cell_type": "markdown",
      "source": [
        "multiply massivni massivga ko'paytirish"
      ],
      "metadata": {
        "id": "4wnh98W2sLWu"
      }
    },
    {
      "cell_type": "code",
      "source": [
        "np.multiply(arr2,arr3)"
      ],
      "metadata": {
        "colab": {
          "base_uri": "https://localhost:8080/"
        },
        "id": "MKnimNF9r7Q0",
        "outputId": "789ae0ab-f441-4256-f1cc-f9df16ee95d5"
      },
      "execution_count": 35,
      "outputs": [
        {
          "output_type": "execute_result",
          "data": {
            "text/plain": [
              "array([-0.01708094,  1.44715595,  0.07566758,  1.30844575, -0.62707498,\n",
              "       -0.02352883, -0.91033314])"
            ]
          },
          "metadata": {},
          "execution_count": 35
        }
      ]
    },
    {
      "cell_type": "code",
      "source": [
        "arr2*arr3"
      ],
      "metadata": {
        "colab": {
          "base_uri": "https://localhost:8080/"
        },
        "id": "mWeRp0aFsbX1",
        "outputId": "0f86cfbd-6724-4536-821d-520d76e212aa"
      },
      "execution_count": 36,
      "outputs": [
        {
          "output_type": "execute_result",
          "data": {
            "text/plain": [
              "array([-0.01708094,  1.44715595,  0.07566758,  1.30844575, -0.62707498,\n",
              "       -0.02352883, -0.91033314])"
            ]
          },
          "metadata": {},
          "execution_count": 36
        }
      ]
    },
    {
      "cell_type": "code",
      "source": [
        "np.maximum(arr2,arr3)"
      ],
      "metadata": {
        "colab": {
          "base_uri": "https://localhost:8080/"
        },
        "id": "-jNPdFnEsfKR",
        "outputId": "ece97c83-3dfc-4d3f-8877-ebbd25721b58"
      },
      "execution_count": 37,
      "outputs": [
        {
          "output_type": "execute_result",
          "data": {
            "text/plain": [
              "array([0.14804255, 1.22791604, 0.42001077, 2.33607223, 1.25715882,\n",
              "       0.02203758, 1.1155029 ])"
            ]
          },
          "metadata": {},
          "execution_count": 37
        }
      ]
    },
    {
      "cell_type": "code",
      "source": [],
      "metadata": {
        "id": "WlweAUVks4l4"
      },
      "execution_count": null,
      "outputs": []
    }
  ]
}