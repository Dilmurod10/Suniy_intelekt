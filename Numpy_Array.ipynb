{
  "nbformat": 4,
  "nbformat_minor": 0,
  "metadata": {
    "colab": {
      "provenance": [],
      "authorship_tag": "ABX9TyPhrjtksr53oHzCs48XG33G",
      "include_colab_link": true
    },
    "kernelspec": {
      "name": "python3",
      "display_name": "Python 3"
    },
    "language_info": {
      "name": "python"
    }
  },
  "cells": [
    {
      "cell_type": "markdown",
      "metadata": {
        "id": "view-in-github",
        "colab_type": "text"
      },
      "source": [
        "<a href=\"https://colab.research.google.com/github/Dilmurod10/Suniy_intelekt/blob/main/Numpy_Array.ipynb\" target=\"_parent\"><img src=\"https://colab.research.google.com/assets/colab-badge.svg\" alt=\"Open In Colab\"/></a>"
      ]
    },
    {
      "cell_type": "markdown",
      "source": [
        "Numpy kutubxonasi bilan ishlash Array(massiv)"
      ],
      "metadata": {
        "id": "ZLmbha_G3YKv"
      }
    },
    {
      "cell_type": "code",
      "execution_count": 1,
      "metadata": {
        "id": "oYDyMJAu3M8B"
      },
      "outputs": [],
      "source": [
        "import numpy as np"
      ]
    },
    {
      "cell_type": "code",
      "source": [
        "data1=[1,2,3,4]  #list\n",
        "arr1=np.array(data1)  #array"
      ],
      "metadata": {
        "id": "Po8RTULN3mKe"
      },
      "execution_count": 2,
      "outputs": []
    },
    {
      "cell_type": "code",
      "source": [
        "arr1"
      ],
      "metadata": {
        "colab": {
          "base_uri": "https://localhost:8080/"
        },
        "id": "6uOxMvcc4Xkd",
        "outputId": "94876ae4-62d8-4349-909d-3a4f21e53059"
      },
      "execution_count": 3,
      "outputs": [
        {
          "output_type": "execute_result",
          "data": {
            "text/plain": [
              "array([1, 2, 3, 4])"
            ]
          },
          "metadata": {},
          "execution_count": 3
        }
      ]
    },
    {
      "cell_type": "code",
      "source": [
        "data2=(82,32,4,2)   #tuple\n",
        "arr2=np.array(data2)   #array"
      ],
      "metadata": {
        "id": "wa9gMOtb4azn"
      },
      "execution_count": 5,
      "outputs": []
    },
    {
      "cell_type": "code",
      "source": [
        "arr2"
      ],
      "metadata": {
        "colab": {
          "base_uri": "https://localhost:8080/"
        },
        "id": "LG_tHoh44odu",
        "outputId": "1068f15d-9d0a-4e23-c7eb-19a0d8a85523"
      },
      "execution_count": 6,
      "outputs": [
        {
          "output_type": "execute_result",
          "data": {
            "text/plain": [
              "array([82, 32,  4,  2])"
            ]
          },
          "metadata": {},
          "execution_count": 6
        }
      ]
    },
    {
      "cell_type": "markdown",
      "source": [
        "Massiv o'lchami"
      ],
      "metadata": {
        "id": "GMRSHw7A443-"
      }
    },
    {
      "cell_type": "code",
      "source": [
        "arr1.ndim # massivning o'lchamini topish"
      ],
      "metadata": {
        "colab": {
          "base_uri": "https://localhost:8080/"
        },
        "id": "ckvklzd-40mK",
        "outputId": "2f96fab1-f35c-4660-a88e-d6d7165ab01f"
      },
      "execution_count": 7,
      "outputs": [
        {
          "output_type": "execute_result",
          "data": {
            "text/plain": [
              "1"
            ]
          },
          "metadata": {},
          "execution_count": 7
        }
      ]
    },
    {
      "cell_type": "markdown",
      "source": [
        "Yuqori o'lchamli massivlar"
      ],
      "metadata": {
        "id": "f7Yii4tL5c9r"
      }
    },
    {
      "cell_type": "code",
      "source": [
        "data3=[[1,2,3,4],[3,2,5,6]]\n",
        "arr3=np.array(data3)"
      ],
      "metadata": {
        "id": "sCLZ6b6t5ZKh"
      },
      "execution_count": 18,
      "outputs": []
    },
    {
      "cell_type": "code",
      "source": [
        "arr3.ndim"
      ],
      "metadata": {
        "colab": {
          "base_uri": "https://localhost:8080/"
        },
        "id": "bIqBDbNp6I_1",
        "outputId": "a3cb8772-f773-4ec9-d871-c5f1d400efaf"
      },
      "execution_count": 19,
      "outputs": [
        {
          "output_type": "execute_result",
          "data": {
            "text/plain": [
              "2"
            ]
          },
          "metadata": {},
          "execution_count": 19
        }
      ]
    },
    {
      "cell_type": "markdown",
      "source": [
        "Shape va size metodlari\n",
        "\n",
        "shape massivning qator va ustunlarini chiqarib beradi.\n",
        "Size massivning elementlar sonini chiqarib beradi."
      ],
      "metadata": {
        "id": "Kia37U257GXO"
      }
    },
    {
      "cell_type": "code",
      "source": [
        "arr3.shape #(qator, ustun)"
      ],
      "metadata": {
        "colab": {
          "base_uri": "https://localhost:8080/"
        },
        "id": "R3CThn_27n1p",
        "outputId": "f275aa3c-4dcd-44f7-9d1a-4b0a86ee9ee8"
      },
      "execution_count": 20,
      "outputs": [
        {
          "output_type": "execute_result",
          "data": {
            "text/plain": [
              "(2, 4)"
            ]
          },
          "metadata": {},
          "execution_count": 20
        }
      ]
    },
    {
      "cell_type": "code",
      "source": [
        "arr3.size"
      ],
      "metadata": {
        "colab": {
          "base_uri": "https://localhost:8080/"
        },
        "id": "EQGAHdnd7ugI",
        "outputId": "32247033-d8de-4f9f-cd3b-8d19d13f7313"
      },
      "execution_count": 21,
      "outputs": [
        {
          "output_type": "execute_result",
          "data": {
            "text/plain": [
              "8"
            ]
          },
          "metadata": {},
          "execution_count": 21
        }
      ]
    },
    {
      "cell_type": "markdown",
      "source": [
        "Zeros va ones metodlari"
      ],
      "metadata": {
        "id": "RbazGU-a826M"
      }
    },
    {
      "cell_type": "code",
      "source": [
        "arr4=np.zeros(shape=(2,4))   #zeros 0 lardan iborat massiv yaratadi\n",
        "arr4"
      ],
      "metadata": {
        "colab": {
          "base_uri": "https://localhost:8080/"
        },
        "id": "aDYzcqg88U9p",
        "outputId": "5871be83-6c86-4aa7-d20c-5fa9391f4451"
      },
      "execution_count": 23,
      "outputs": [
        {
          "output_type": "execute_result",
          "data": {
            "text/plain": [
              "array([[0., 0., 0., 0.],\n",
              "       [0., 0., 0., 0.]])"
            ]
          },
          "metadata": {},
          "execution_count": 23
        }
      ]
    },
    {
      "cell_type": "code",
      "source": [
        "arr5=np.ones((2,4))\n",
        "arr5"
      ],
      "metadata": {
        "colab": {
          "base_uri": "https://localhost:8080/"
        },
        "id": "uFBnhTij9HMo",
        "outputId": "36fcdd92-5ff6-477e-94fa-88d751b74f5f"
      },
      "execution_count": 24,
      "outputs": [
        {
          "output_type": "execute_result",
          "data": {
            "text/plain": [
              "array([[1., 1., 1., 1.],\n",
              "       [1., 1., 1., 1.]])"
            ]
          },
          "metadata": {},
          "execution_count": 24
        }
      ]
    },
    {
      "cell_type": "markdown",
      "source": [
        "Arange funksiyasi"
      ],
      "metadata": {
        "id": "BkIb80DG9wbk"
      }
    },
    {
      "cell_type": "code",
      "source": [
        "arr6=np.arange(1,29,4)\n",
        "arr6"
      ],
      "metadata": {
        "colab": {
          "base_uri": "https://localhost:8080/"
        },
        "id": "Xy4wQ40N9p50",
        "outputId": "e1cb6707-2ffa-4005-ccbd-6d75f324ad49"
      },
      "execution_count": 25,
      "outputs": [
        {
          "output_type": "execute_result",
          "data": {
            "text/plain": [
              "array([ 1,  5,  9, 13, 17, 21, 25])"
            ]
          },
          "metadata": {},
          "execution_count": 25
        }
      ]
    },
    {
      "cell_type": "code",
      "source": [
        "arr7=np.arange(26)\n",
        "arr7"
      ],
      "metadata": {
        "colab": {
          "base_uri": "https://localhost:8080/"
        },
        "id": "6s8vMm3u-VNC",
        "outputId": "594870d5-e565-465c-9010-90bfb8776609"
      },
      "execution_count": 26,
      "outputs": [
        {
          "output_type": "execute_result",
          "data": {
            "text/plain": [
              "array([ 0,  1,  2,  3,  4,  5,  6,  7,  8,  9, 10, 11, 12, 13, 14, 15, 16,\n",
              "       17, 18, 19, 20, 21, 22, 23, 24, 25])"
            ]
          },
          "metadata": {},
          "execution_count": 26
        }
      ]
    }
  ]
}